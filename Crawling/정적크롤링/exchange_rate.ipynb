{
 "cells": [
  {
   "cell_type": "code",
   "execution_count": 1,
   "metadata": {},
   "outputs": [
    {
     "name": "stdout",
     "output_type": "stream",
     "text": [
      "1,238.00\n"
     ]
    }
   ],
   "source": [
    "import requests as req\n",
    "\n",
    "res = req.get(\n",
    "    'https://finance.naver.com/marketindex/?tabSel=exchange#tab_section')\n",
    "\n",
    "html = res.text\n",
    "\n",
    "pos = html.find('미국 USD')\n",
    "\n",
    "s = html.split('<span class=\"value\">')[1].split('</span>')[0]\n",
    "\n",
    "print(s)\n"
   ]
  },
  {
   "cell_type": "code",
   "execution_count": null,
   "metadata": {},
   "outputs": [],
   "source": []
  }
 ],
 "metadata": {
  "kernelspec": {
   "display_name": "Python 3",
   "language": "python",
   "name": "python3"
  },
  "language_info": {
   "codemirror_mode": {
    "name": "ipython",
    "version": 3
   },
   "file_extension": ".py",
   "mimetype": "text/x-python",
   "name": "python",
   "nbconvert_exporter": "python",
   "pygments_lexer": "ipython3",
   "version": "3.9.13"
  },
  "orig_nbformat": 4,
  "vscode": {
   "interpreter": {
    "hash": "bd93e900be86aa00b58798fc286615aee70713524d15453db8f6a7ddae08e00b"
   }
  }
 },
 "nbformat": 4,
 "nbformat_minor": 2
}
