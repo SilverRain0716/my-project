{
 "cells": [
  {
   "cell_type": "code",
   "execution_count": 9,
   "metadata": {},
   "outputs": [
    {
     "name": "stdout",
     "output_type": "stream",
     "text": [
      "[*********************100%***********************]  1 of 1 completed\n",
      "[*********************100%***********************]  1 of 1 completed\n"
     ]
    },
    {
     "data": {
      "text/html": [
       "<div>\n",
       "<style scoped>\n",
       "    .dataframe tbody tr th:only-of-type {\n",
       "        vertical-align: middle;\n",
       "    }\n",
       "\n",
       "    .dataframe tbody tr th {\n",
       "        vertical-align: top;\n",
       "    }\n",
       "\n",
       "    .dataframe thead th {\n",
       "        text-align: right;\n",
       "    }\n",
       "</style>\n",
       "<table border=\"1\" class=\"dataframe\">\n",
       "  <thead>\n",
       "    <tr style=\"text-align: right;\">\n",
       "      <th></th>\n",
       "      <th>Open</th>\n",
       "      <th>High</th>\n",
       "      <th>Low</th>\n",
       "      <th>Close</th>\n",
       "      <th>Adj Close</th>\n",
       "      <th>Volume</th>\n",
       "    </tr>\n",
       "    <tr>\n",
       "      <th>Date</th>\n",
       "      <th></th>\n",
       "      <th></th>\n",
       "      <th></th>\n",
       "      <th></th>\n",
       "      <th></th>\n",
       "      <th></th>\n",
       "    </tr>\n",
       "  </thead>\n",
       "  <tbody>\n",
       "    <tr>\n",
       "      <th>2018-05-04 00:00:00+09:00</th>\n",
       "      <td>53000.0</td>\n",
       "      <td>53900.0</td>\n",
       "      <td>51800.0</td>\n",
       "      <td>51900.0</td>\n",
       "      <td>45362.570312</td>\n",
       "      <td>39565391</td>\n",
       "    </tr>\n",
       "    <tr>\n",
       "      <th>2018-05-08 00:00:00+09:00</th>\n",
       "      <td>52600.0</td>\n",
       "      <td>53200.0</td>\n",
       "      <td>51900.0</td>\n",
       "      <td>52600.0</td>\n",
       "      <td>45974.394531</td>\n",
       "      <td>23104720</td>\n",
       "    </tr>\n",
       "    <tr>\n",
       "      <th>2018-05-09 00:00:00+09:00</th>\n",
       "      <td>52600.0</td>\n",
       "      <td>52800.0</td>\n",
       "      <td>50900.0</td>\n",
       "      <td>50900.0</td>\n",
       "      <td>44488.527344</td>\n",
       "      <td>16128305</td>\n",
       "    </tr>\n",
       "    <tr>\n",
       "      <th>2018-05-10 00:00:00+09:00</th>\n",
       "      <td>51700.0</td>\n",
       "      <td>51700.0</td>\n",
       "      <td>50600.0</td>\n",
       "      <td>51600.0</td>\n",
       "      <td>45100.351562</td>\n",
       "      <td>13905263</td>\n",
       "    </tr>\n",
       "    <tr>\n",
       "      <th>2018-05-11 00:00:00+09:00</th>\n",
       "      <td>52000.0</td>\n",
       "      <td>52200.0</td>\n",
       "      <td>51200.0</td>\n",
       "      <td>51300.0</td>\n",
       "      <td>44838.140625</td>\n",
       "      <td>10314997</td>\n",
       "    </tr>\n",
       "    <tr>\n",
       "      <th>2018-05-14 00:00:00+09:00</th>\n",
       "      <td>51000.0</td>\n",
       "      <td>51100.0</td>\n",
       "      <td>49900.0</td>\n",
       "      <td>50100.0</td>\n",
       "      <td>43789.296875</td>\n",
       "      <td>14909272</td>\n",
       "    </tr>\n",
       "    <tr>\n",
       "      <th>2018-05-15 00:00:00+09:00</th>\n",
       "      <td>50200.0</td>\n",
       "      <td>50400.0</td>\n",
       "      <td>49100.0</td>\n",
       "      <td>49200.0</td>\n",
       "      <td>43002.660156</td>\n",
       "      <td>18709146</td>\n",
       "    </tr>\n",
       "    <tr>\n",
       "      <th>2018-05-16 00:00:00+09:00</th>\n",
       "      <td>49200.0</td>\n",
       "      <td>50200.0</td>\n",
       "      <td>49150.0</td>\n",
       "      <td>49850.0</td>\n",
       "      <td>43570.789062</td>\n",
       "      <td>15918683</td>\n",
       "    </tr>\n",
       "    <tr>\n",
       "      <th>2018-05-17 00:00:00+09:00</th>\n",
       "      <td>50300.0</td>\n",
       "      <td>50500.0</td>\n",
       "      <td>49400.0</td>\n",
       "      <td>49400.0</td>\n",
       "      <td>43177.476562</td>\n",
       "      <td>10365440</td>\n",
       "    </tr>\n",
       "    <tr>\n",
       "      <th>2018-05-18 00:00:00+09:00</th>\n",
       "      <td>49900.0</td>\n",
       "      <td>49900.0</td>\n",
       "      <td>49350.0</td>\n",
       "      <td>49500.0</td>\n",
       "      <td>43264.882812</td>\n",
       "      <td>6706570</td>\n",
       "    </tr>\n",
       "  </tbody>\n",
       "</table>\n",
       "</div>"
      ],
      "text/plain": [
       "                              Open     High      Low    Close     Adj Close  \\\n",
       "Date                                                                          \n",
       "2018-05-04 00:00:00+09:00  53000.0  53900.0  51800.0  51900.0  45362.570312   \n",
       "2018-05-08 00:00:00+09:00  52600.0  53200.0  51900.0  52600.0  45974.394531   \n",
       "2018-05-09 00:00:00+09:00  52600.0  52800.0  50900.0  50900.0  44488.527344   \n",
       "2018-05-10 00:00:00+09:00  51700.0  51700.0  50600.0  51600.0  45100.351562   \n",
       "2018-05-11 00:00:00+09:00  52000.0  52200.0  51200.0  51300.0  44838.140625   \n",
       "2018-05-14 00:00:00+09:00  51000.0  51100.0  49900.0  50100.0  43789.296875   \n",
       "2018-05-15 00:00:00+09:00  50200.0  50400.0  49100.0  49200.0  43002.660156   \n",
       "2018-05-16 00:00:00+09:00  49200.0  50200.0  49150.0  49850.0  43570.789062   \n",
       "2018-05-17 00:00:00+09:00  50300.0  50500.0  49400.0  49400.0  43177.476562   \n",
       "2018-05-18 00:00:00+09:00  49900.0  49900.0  49350.0  49500.0  43264.882812   \n",
       "\n",
       "                             Volume  \n",
       "Date                                 \n",
       "2018-05-04 00:00:00+09:00  39565391  \n",
       "2018-05-08 00:00:00+09:00  23104720  \n",
       "2018-05-09 00:00:00+09:00  16128305  \n",
       "2018-05-10 00:00:00+09:00  13905263  \n",
       "2018-05-11 00:00:00+09:00  10314997  \n",
       "2018-05-14 00:00:00+09:00  14909272  \n",
       "2018-05-15 00:00:00+09:00  18709146  \n",
       "2018-05-16 00:00:00+09:00  15918683  \n",
       "2018-05-17 00:00:00+09:00  10365440  \n",
       "2018-05-18 00:00:00+09:00   6706570  "
      ]
     },
     "execution_count": 9,
     "metadata": {},
     "output_type": "execute_result"
    }
   ],
   "source": [
    "from pandas_datareader import data as pdr\n",
    "import yfinance as yf\n",
    "\n",
    "yf.pdr_override()\n",
    "\n",
    "sec = pdr.get_data_yahoo('005930.KS', start='2018-05-04')\n",
    "msft = pdr.get_data_yahoo('MSFT', start='2018-05-04')\n",
    "\n",
    "sec.head(10)\n"
   ]
  },
  {
   "cell_type": "code",
   "execution_count": 11,
   "metadata": {},
   "outputs": [
    {
     "data": {
      "text/html": [
       "<div>\n",
       "<style scoped>\n",
       "    .dataframe tbody tr th:only-of-type {\n",
       "        vertical-align: middle;\n",
       "    }\n",
       "\n",
       "    .dataframe tbody tr th {\n",
       "        vertical-align: top;\n",
       "    }\n",
       "\n",
       "    .dataframe thead th {\n",
       "        text-align: right;\n",
       "    }\n",
       "</style>\n",
       "<table border=\"1\" class=\"dataframe\">\n",
       "  <thead>\n",
       "    <tr style=\"text-align: right;\">\n",
       "      <th></th>\n",
       "      <th>Open</th>\n",
       "      <th>High</th>\n",
       "      <th>Low</th>\n",
       "      <th>Close</th>\n",
       "      <th>Adj Close</th>\n",
       "    </tr>\n",
       "    <tr>\n",
       "      <th>Date</th>\n",
       "      <th></th>\n",
       "      <th></th>\n",
       "      <th></th>\n",
       "      <th></th>\n",
       "      <th></th>\n",
       "    </tr>\n",
       "  </thead>\n",
       "  <tbody>\n",
       "    <tr>\n",
       "      <th>2023-01-13 00:00:00-05:00</th>\n",
       "      <td>237.000000</td>\n",
       "      <td>239.369995</td>\n",
       "      <td>234.919998</td>\n",
       "      <td>239.229996</td>\n",
       "      <td>239.229996</td>\n",
       "    </tr>\n",
       "    <tr>\n",
       "      <th>2023-01-17 00:00:00-05:00</th>\n",
       "      <td>237.970001</td>\n",
       "      <td>240.910004</td>\n",
       "      <td>237.089996</td>\n",
       "      <td>240.350006</td>\n",
       "      <td>240.350006</td>\n",
       "    </tr>\n",
       "    <tr>\n",
       "      <th>2023-01-18 00:00:00-05:00</th>\n",
       "      <td>241.570007</td>\n",
       "      <td>242.380005</td>\n",
       "      <td>235.520004</td>\n",
       "      <td>235.809998</td>\n",
       "      <td>235.809998</td>\n",
       "    </tr>\n",
       "    <tr>\n",
       "      <th>2023-01-19 00:00:00-05:00</th>\n",
       "      <td>233.779999</td>\n",
       "      <td>235.520004</td>\n",
       "      <td>230.679993</td>\n",
       "      <td>231.929993</td>\n",
       "      <td>231.929993</td>\n",
       "    </tr>\n",
       "    <tr>\n",
       "      <th>2023-01-20 00:00:00-05:00</th>\n",
       "      <td>234.860001</td>\n",
       "      <td>240.740005</td>\n",
       "      <td>234.509995</td>\n",
       "      <td>240.220001</td>\n",
       "      <td>240.220001</td>\n",
       "    </tr>\n",
       "  </tbody>\n",
       "</table>\n",
       "</div>"
      ],
      "text/plain": [
       "                                 Open        High         Low       Close  \\\n",
       "Date                                                                        \n",
       "2023-01-13 00:00:00-05:00  237.000000  239.369995  234.919998  239.229996   \n",
       "2023-01-17 00:00:00-05:00  237.970001  240.910004  237.089996  240.350006   \n",
       "2023-01-18 00:00:00-05:00  241.570007  242.380005  235.520004  235.809998   \n",
       "2023-01-19 00:00:00-05:00  233.779999  235.520004  230.679993  231.929993   \n",
       "2023-01-20 00:00:00-05:00  234.860001  240.740005  234.509995  240.220001   \n",
       "\n",
       "                            Adj Close  \n",
       "Date                                   \n",
       "2023-01-13 00:00:00-05:00  239.229996  \n",
       "2023-01-17 00:00:00-05:00  240.350006  \n",
       "2023-01-18 00:00:00-05:00  235.809998  \n",
       "2023-01-19 00:00:00-05:00  231.929993  \n",
       "2023-01-20 00:00:00-05:00  240.220001  "
      ]
     },
     "execution_count": 11,
     "metadata": {},
     "output_type": "execute_result"
    }
   ],
   "source": [
    "tmp_msft = msft.drop(columns='Volume')\n",
    "tmp_msft.tail()"
   ]
  },
  {
   "cell_type": "code",
   "execution_count": 12,
   "metadata": {},
   "outputs": [
    {
     "data": {
      "text/plain": [
       "DatetimeIndex(['2018-05-04 00:00:00+09:00', '2018-05-08 00:00:00+09:00',\n",
       "               '2018-05-09 00:00:00+09:00', '2018-05-10 00:00:00+09:00',\n",
       "               '2018-05-11 00:00:00+09:00', '2018-05-14 00:00:00+09:00',\n",
       "               '2018-05-15 00:00:00+09:00', '2018-05-16 00:00:00+09:00',\n",
       "               '2018-05-17 00:00:00+09:00', '2018-05-18 00:00:00+09:00',\n",
       "               ...\n",
       "               '2023-01-09 00:00:00+09:00', '2023-01-10 00:00:00+09:00',\n",
       "               '2023-01-11 00:00:00+09:00', '2023-01-12 00:00:00+09:00',\n",
       "               '2023-01-13 00:00:00+09:00', '2023-01-16 00:00:00+09:00',\n",
       "               '2023-01-17 00:00:00+09:00', '2023-01-18 00:00:00+09:00',\n",
       "               '2023-01-19 00:00:00+09:00', '2023-01-20 00:00:00+09:00'],\n",
       "              dtype='datetime64[ns, Asia/Seoul]', name='Date', length=1161, freq=None)"
      ]
     },
     "execution_count": 12,
     "metadata": {},
     "output_type": "execute_result"
    }
   ],
   "source": [
    "sec.index"
   ]
  },
  {
   "cell_type": "code",
   "execution_count": 13,
   "metadata": {},
   "outputs": [
    {
     "data": {
      "text/plain": [
       "Index(['Open', 'High', 'Low', 'Close', 'Adj Close', 'Volume'], dtype='object')"
      ]
     },
     "execution_count": 13,
     "metadata": {},
     "output_type": "execute_result"
    }
   ],
   "source": [
    "sec.columns"
   ]
  },
  {
   "attachments": {},
   "cell_type": "markdown",
   "metadata": {},
   "source": [
    "# 그래프만들기"
   ]
  },
  {
   "cell_type": "code",
   "execution_count": 15,
   "metadata": {},
   "outputs": [
    {
     "data": {
      "image/png": "[encoded data removed]",
      "text/plain": [
       "<Figure size 640x480 with 1 Axes>"
      ]
     },
     "metadata": {},
     "output_type": "display_data"
    }
   ],
   "source": [
    "import matplotlib.pyplot as plt\n",
    "# plot(x축, y축, 마커형태, label='라벨명')\n",
    "plt.plot(sec.index, sec.Close, 'b', label='Samsung Electronics')\n",
    "plt.plot(msft.index, msft.Close, 'r--', label='Microsoft')\n",
    "plt.legend(loc='best')\n",
    "plt.show()"
   ]
  },
  {
   "attachments": {},
   "cell_type": "markdown",
   "metadata": {},
   "source": [
    "# 전일 종가 대비 변동률 구하기"
   ]
  },
  {
   "cell_type": "code",
   "execution_count": 16,
   "metadata": {},
   "outputs": [
    {
     "data": {
      "text/plain": [
       "pandas.core.series.Series"
      ]
     },
     "execution_count": 16,
     "metadata": {},
     "output_type": "execute_result"
    }
   ],
   "source": [
    "# 삼성전자의 종가(Close)컬럼 타입 확인하기 \n",
    "\n",
    "type(sec['Close'])"
   ]
  },
  {
   "cell_type": "code",
   "execution_count": 17,
   "metadata": {},
   "outputs": [
    {
     "data": {
      "text/plain": [
       "Date\n",
       "2018-05-04 00:00:00+09:00    51900.0\n",
       "2018-05-08 00:00:00+09:00    52600.0\n",
       "2018-05-09 00:00:00+09:00    50900.0\n",
       "2018-05-10 00:00:00+09:00    51600.0\n",
       "2018-05-11 00:00:00+09:00    51300.0\n",
       "                              ...   \n",
       "2023-01-16 00:00:00+09:00    61100.0\n",
       "2023-01-17 00:00:00+09:00    61000.0\n",
       "2023-01-18 00:00:00+09:00    60400.0\n",
       "2023-01-19 00:00:00+09:00    61500.0\n",
       "2023-01-20 00:00:00+09:00    61800.0\n",
       "Name: Close, Length: 1161, dtype: float64"
      ]
     },
     "execution_count": 17,
     "metadata": {},
     "output_type": "execute_result"
    }
   ],
   "source": [
    "# 삼성전자의 종가(Close)컬럼 데이터 확인하기 \n",
    "\n",
    "sec['Close']"
   ]
  },
  {
   "cell_type": "code",
   "execution_count": 18,
   "metadata": {},
   "outputs": [
    {
     "data": {
      "text/plain": [
       "Date\n",
       "2018-05-04 00:00:00+09:00        NaN\n",
       "2018-05-08 00:00:00+09:00    51900.0\n",
       "2018-05-09 00:00:00+09:00    52600.0\n",
       "2018-05-10 00:00:00+09:00    50900.0\n",
       "2018-05-11 00:00:00+09:00    51600.0\n",
       "                              ...   \n",
       "2023-01-16 00:00:00+09:00    60800.0\n",
       "2023-01-17 00:00:00+09:00    61100.0\n",
       "2023-01-18 00:00:00+09:00    61000.0\n",
       "2023-01-19 00:00:00+09:00    60400.0\n",
       "2023-01-20 00:00:00+09:00    61500.0\n",
       "Name: Close, Length: 1161, dtype: float64"
      ]
     },
     "execution_count": 18,
     "metadata": {},
     "output_type": "execute_result"
    }
   ],
   "source": [
    "# 종가 컬럼 1행씩 아래로 밀기 -> 수식을 만들 때 사용\n",
    "sec['Close'].shift(1)"
   ]
  },
  {
   "cell_type": "code",
   "execution_count": 19,
   "metadata": {},
   "outputs": [
    {
     "data": {
      "text/plain": [
       "Date\n",
       "2018-05-04 00:00:00+09:00         NaN\n",
       "2018-05-08 00:00:00+09:00    1.348748\n",
       "2018-05-09 00:00:00+09:00   -3.231939\n",
       "2018-05-10 00:00:00+09:00    1.375246\n",
       "2018-05-11 00:00:00+09:00   -0.581395\n",
       "                               ...   \n",
       "2023-01-16 00:00:00+09:00    0.493421\n",
       "2023-01-17 00:00:00+09:00   -0.163666\n",
       "2023-01-18 00:00:00+09:00   -0.983607\n",
       "2023-01-19 00:00:00+09:00    1.821192\n",
       "2023-01-20 00:00:00+09:00    0.487805\n",
       "Name: Close, Length: 1161, dtype: float64"
      ]
     },
     "execution_count": 19,
     "metadata": {},
     "output_type": "execute_result"
    }
   ],
   "source": [
    "(sec['Close']/sec['Close'].shift(1) - 1) * 100"
   ]
  },
  {
   "cell_type": "code",
   "execution_count": 21,
   "metadata": {},
   "outputs": [
    {
     "data": {
      "text/plain": [
       "Date\n",
       "2018-05-04 00:00:00+09:00         NaN\n",
       "2018-05-08 00:00:00+09:00    1.348748\n",
       "2018-05-09 00:00:00+09:00   -3.231939\n",
       "2018-05-10 00:00:00+09:00    1.375246\n",
       "2018-05-11 00:00:00+09:00   -0.581395\n",
       "Name: Close, dtype: float64"
      ]
     },
     "execution_count": 21,
     "metadata": {},
     "output_type": "execute_result"
    }
   ],
   "source": [
    "sec_dpc = (sec['Close']/sec['Close'].shift(1) - 1) * 100\n",
    "sec_dpc.head()\n"
   ]
  },
  {
   "cell_type": "code",
   "execution_count": 22,
   "metadata": {},
   "outputs": [
    {
     "data": {
      "text/plain": [
       "Date\n",
       "2018-05-04 00:00:00+09:00    0.000000\n",
       "2018-05-08 00:00:00+09:00    1.348748\n",
       "2018-05-09 00:00:00+09:00   -3.231939\n",
       "2018-05-10 00:00:00+09:00    1.375246\n",
       "2018-05-11 00:00:00+09:00   -0.581395\n",
       "Name: Close, dtype: float64"
      ]
     },
     "execution_count": 22,
     "metadata": {},
     "output_type": "execute_result"
    }
   ],
   "source": [
    "# iloc(로케이션 인덱서) \n",
    "sec_dpc.iloc[0] = 0 \n",
    "sec_dpc.head()"
   ]
  },
  {
   "cell_type": "code",
   "execution_count": 24,
   "metadata": {},
   "outputs": [
    {
     "data": {
      "text/plain": [
       "pandas.core.series.Series"
      ]
     },
     "execution_count": 24,
     "metadata": {},
     "output_type": "execute_result"
    }
   ],
   "source": [
    "type(msft['Close'])"
   ]
  },
  {
   "cell_type": "code",
   "execution_count": 26,
   "metadata": {},
   "outputs": [
    {
     "data": {
      "text/plain": [
       "Date\n",
       "2018-05-04 00:00:00-04:00         NaN\n",
       "2018-05-07 00:00:00-04:00    1.113911\n",
       "2018-05-08 00:00:00-04:00   -0.426111\n",
       "2018-05-09 00:00:00-04:00    1.179423\n",
       "2018-05-10 00:00:00-04:00    1.000620\n",
       "Name: Close, dtype: float64"
      ]
     },
     "execution_count": 26,
     "metadata": {},
     "output_type": "execute_result"
    }
   ],
   "source": [
    "msft_dpc = (msft['Close']/msft['Close'].shift(1) - 1) * 100\n",
    "msft_dpc.head()"
   ]
  },
  {
   "cell_type": "code",
   "execution_count": 27,
   "metadata": {},
   "outputs": [
    {
     "data": {
      "text/plain": [
       "Date\n",
       "2018-05-04 00:00:00-04:00    0.000000\n",
       "2018-05-07 00:00:00-04:00    1.113911\n",
       "2018-05-08 00:00:00-04:00   -0.426111\n",
       "2018-05-09 00:00:00-04:00    1.179423\n",
       "2018-05-10 00:00:00-04:00    1.000620\n",
       "Name: Close, dtype: float64"
      ]
     },
     "execution_count": 27,
     "metadata": {},
     "output_type": "execute_result"
    }
   ],
   "source": [
    "msft_dpc.iloc[0] = 0 \n",
    "msft_dpc.head()"
   ]
  },
  {
   "attachments": {},
   "cell_type": "markdown",
   "metadata": {},
   "source": [
    "# 변동률 히스토그램 만들기"
   ]
  },
  {
   "cell_type": "code",
   "execution_count": 37,
   "metadata": {},
   "outputs": [
    {
     "data": {
      "image/png": "[encoded data removed]",
      "text/plain": [
       "<Figure size 640x480 with 1 Axes>"
      ]
     },
     "metadata": {},
     "output_type": "display_data"
    }
   ],
   "source": [
    "plt.hist(sec_dpc, bins=18)\n",
    "plt.grid(True)\n",
    "plt.show()\n"
   ]
  },
  {
   "cell_type": "code",
   "execution_count": 35,
   "metadata": {},
   "outputs": [
    {
     "data": {
      "text/plain": [
       "count    1161.000000\n",
       "mean        0.028069\n",
       "std         1.618785\n",
       "min        -6.387665\n",
       "25%        -0.976801\n",
       "50%         0.000000\n",
       "75%         0.851582\n",
       "max        10.470588\n",
       "Name: Close, dtype: float64"
      ]
     },
     "execution_count": 35,
     "metadata": {},
     "output_type": "execute_result"
    }
   ],
   "source": [
    "sec_dpc.describe()\n",
    "# mean(평균) std(표준편차)"
   ]
  },
  {
   "cell_type": "code",
   "execution_count": 38,
   "metadata": {},
   "outputs": [
    {
     "data": {
      "image/png": "[encoded data removed]",
      "text/plain": [
       "<Figure size 640x480 with 1 Axes>"
      ]
     },
     "metadata": {},
     "output_type": "display_data"
    }
   ],
   "source": [
    "plt.hist(msft_dpc, bins=18)\n",
    "plt.grid(True)\n",
    "plt.show()"
   ]
  },
  {
   "cell_type": "code",
   "execution_count": 36,
   "metadata": {},
   "outputs": [
    {
     "data": {
      "text/plain": [
       "count    1187.000000\n",
       "mean        0.097264\n",
       "std         1.960277\n",
       "min       -14.739031\n",
       "25%        -0.838575\n",
       "50%         0.108708\n",
       "75%         1.085935\n",
       "max        14.216888\n",
       "Name: Close, dtype: float64"
      ]
     },
     "execution_count": 36,
     "metadata": {},
     "output_type": "execute_result"
    }
   ],
   "source": [
    "msft_dpc.describe()"
   ]
  },
  {
   "attachments": {},
   "cell_type": "markdown",
   "metadata": {},
   "source": [
    "# 일간 변동률 누적곱 구하기"
   ]
  },
  {
   "cell_type": "code",
   "execution_count": 39,
   "metadata": {},
   "outputs": [
    {
     "data": {
      "text/plain": [
       "Date\n",
       "2018-05-04 00:00:00+09:00     0.000000\n",
       "2018-05-08 00:00:00+09:00     1.348748\n",
       "2018-05-09 00:00:00+09:00    -1.926782\n",
       "2018-05-10 00:00:00+09:00    -0.578035\n",
       "2018-05-11 00:00:00+09:00    -1.156069\n",
       "                               ...    \n",
       "2023-01-16 00:00:00+09:00    17.726397\n",
       "2023-01-17 00:00:00+09:00    17.533719\n",
       "2023-01-18 00:00:00+09:00    16.377649\n",
       "2023-01-19 00:00:00+09:00    18.497110\n",
       "2023-01-20 00:00:00+09:00    19.075145\n",
       "Name: Close, Length: 1161, dtype: float64"
      ]
     },
     "execution_count": 39,
     "metadata": {},
     "output_type": "execute_result"
    }
   ],
   "source": [
    "sec_dpc_cp = ((100+sec_dpc)/100).cumprod()*100-100\n",
    "sec_dpc_cp"
   ]
  },
  {
   "cell_type": "code",
   "execution_count": 41,
   "metadata": {},
   "outputs": [
    {
     "data": {
      "text/plain": [
       "Date\n",
       "2018-05-04 00:00:00-04:00      0.000000\n",
       "2018-05-07 00:00:00-04:00      1.113911\n",
       "2018-05-08 00:00:00-04:00      0.683054\n",
       "2018-05-09 00:00:00-04:00      1.870532\n",
       "2018-05-10 00:00:00-04:00      2.889870\n",
       "                                ...    \n",
       "2023-01-13 00:00:00-05:00    151.397632\n",
       "2023-01-17 00:00:00-05:00    152.574608\n",
       "2023-01-18 00:00:00-05:00    147.803687\n",
       "2023-01-19 00:00:00-05:00    143.726339\n",
       "2023-01-20 00:00:00-05:00    152.437991\n",
       "Name: Close, Length: 1187, dtype: float64"
      ]
     },
     "execution_count": 41,
     "metadata": {},
     "output_type": "execute_result"
    }
   ],
   "source": [
    "msft_dpc_cp = ((100+msft_dpc)/100).cumprod()*100-100\n",
    "msft_dpc_cp"
   ]
  },
  {
   "cell_type": "code",
   "execution_count": 42,
   "metadata": {},
   "outputs": [
    {
     "data": {
      "image/png": "[encoded data removed]",
      "text/plain": [
       "<Figure size 640x480 with 1 Axes>"
      ]
     },
     "metadata": {},
     "output_type": "display_data"
    }
   ],
   "source": [
    "plt.plot(sec.index, sec_dpc_cp, 'b', label='Samsung Electronics')\n",
    "plt.plot(msft.index, msft_dpc_cp, 'r--', label='Microsoft')\n",
    "plt.legend(loc='best')\n",
    "plt.show()"
   ]
  }
 ],
 "metadata": {
  "kernelspec": {
   "display_name": "Python 3",
   "language": "python",
   "name": "python3"
  },
  "language_info": {
   "codemirror_mode": {
    "name": "ipython",
    "version": 3
   },
   "file_extension": ".py",
   "mimetype": "text/x-python",
   "name": "python",
   "nbconvert_exporter": "python",
   "pygments_lexer": "ipython3",
   "version": "3.9.6"
  },
  "orig_nbformat": 4,
  "vscode": {
   "interpreter": {
    "hash": "31f2aee4e71d21fbe5cf8b01ff0e069b9275f58929596ceb00d14d90e3e16cd6"
   }
  }
 },
 "nbformat": 4,
 "nbformat_minor": 2
}
