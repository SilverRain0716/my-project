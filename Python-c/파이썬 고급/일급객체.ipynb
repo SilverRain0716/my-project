{
 "cells": [
  {
   "attachments": {},
   "cell_type": "markdown",
   "metadata": {},
   "source": [
    "##일급 객체\n",
    "# 일급객체란?\n",
    "# - 다음과 같은 특징을 만족하는 객체를 말한다. \n",
    "# 1. 데이터 처럼 사용이 가능하다. \n",
    "# 2. 매개변수에 넘겨 줄 수 있다.\n",
    "# 3. 리턴값으로 사용될 수 있다. \n",
    "\n"
   ]
  },
  {
   "cell_type": "code",
   "execution_count": 1,
   "metadata": {},
   "outputs": [
    {
     "name": "stdout",
     "output_type": "stream",
     "text": [
      "7\n"
     ]
    }
   ],
   "source": [
    "# 1. 데이터 처럼 사용이 가능하다.\n",
    "# 1) 함수를 변수에 할당 가능\n",
    "def func(x, y):\n",
    "    return x + y\n",
    "\n",
    "add = func\n",
    "print(add(3,4))\n",
    "\n",
    "\n"
   ]
  },
  {
   "cell_type": "code",
   "execution_count": 4,
   "metadata": {},
   "outputs": [
    {
     "name": "stdout",
     "output_type": "stream",
     "text": [
      "30\n"
     ]
    }
   ],
   "source": [
    "# 리스트(튜플, 디셔너리 등)에 할당가능 \n",
    "def mul(x,y):\n",
    "    return x * y\n",
    "\n",
    "def div(x, y):\n",
    "    return x/y\n",
    "\n",
    "calculator = [mul, div]\n",
    "print(calculator[0](5,6))"
   ]
  },
  {
   "cell_type": "code",
   "execution_count": 6,
   "metadata": {},
   "outputs": [
    {
     "name": "stdout",
     "output_type": "stream",
     "text": [
      "입력한 데이터는 startingcoding\n"
     ]
    }
   ],
   "source": [
    "#매개 변수에 넘겨 줄 수 있다. \n",
    "def inputData():\n",
    "    data = input(\"데이터 입력>>>\")\n",
    "    return data\n",
    "def start(func):\n",
    "    print(\"입력한 데이터는\", func())\n",
    "    \n",
    "start(inputData)"
   ]
  },
  {
   "cell_type": "code",
   "execution_count": 7,
   "metadata": {},
   "outputs": [
    {
     "name": "stdout",
     "output_type": "stream",
     "text": [
      "15\n"
     ]
    }
   ],
   "source": [
    "# 리턴 값으로 사용 될 수 있다. \n",
    "def plusTen(a):\n",
    "    return a + 10\n",
    "\n",
    "def func(x):\n",
    "    return plusTen(x)\n",
    "\n",
    "print(func(5))"
   ]
  },
  {
   "attachments": {},
   "cell_type": "markdown",
   "metadata": {},
   "source": [
    "**클로저**"
   ]
  },
  {
   "cell_type": "code",
   "execution_count": 9,
   "metadata": {},
   "outputs": [
    {
     "name": "stdout",
     "output_type": "stream",
     "text": [
      "startcoding 님 안녕하세요!\n"
     ]
    }
   ],
   "source": [
    "# 1. 내부 함수\n",
    "# 함수 안에 또다른 함수를 정의할 수 있다.\n",
    "\n",
    "def outer(name):\n",
    "    def inner():\n",
    "        print(name, \"님 안녕하세요!\")\n",
    "    return inner\n",
    "\n",
    "func = outer(\"startcoding\")\n",
    "func()\n"
   ]
  },
  {
   "cell_type": "code",
   "execution_count": null,
   "metadata": {},
   "outputs": [],
   "source": [
    "# 2. 클로저\n",
    "# 함수가 종료되어도 자원을 사용할 수 있는 함수\n",
    "\n",
    "# ** 클로저가 될 조건\n",
    "# 1) 내부 함수 여야 한다.\n",
    "# 2) 외부 함수의 변수를 참조해야 한다.\n",
    "# 3) 외부 함수가 내부 함수를 반환해야 한다"
   ]
  },
  {
   "cell_type": "code",
   "execution_count": 18,
   "metadata": {},
   "outputs": [
    {
     "name": "stdout",
     "output_type": "stream",
     "text": [
      "나미 님 안녕하세요\n",
      "나이 :  27\n",
      "성별 :  female\n",
      "27\n",
      "27\n",
      "female\n",
      "나미\n"
     ]
    },
    {
     "ename": "",
     "evalue": "",
     "output_type": "error",
     "traceback": [
      "\u001b[1;31mThe Kernel crashed while executing code in the the current cell or a previous cell. Please review the code in the cell(s) to identify a possible cause of the failure. Click <a href='https://aka.ms/vscodeJupyterKernelCrash'>here</a> for more info. View Jupyter <a href='command:jupyter.viewOutput'>log</a> for further details."
     ]
    }
   ],
   "source": [
    "def greeting(name, age, gender):\n",
    "    def inner():\n",
    "        print(name,\"님 안녕하세요\")\n",
    "        print(\"나이 : \", age)\n",
    "        print(\"성별 : \", gender)\n",
    "    return inner\n",
    "\n",
    "closure = greeting(\"나미\", 27, \"female\")\n",
    "closure()\n",
    "\n",
    "print(closure.__closure__[0].cell_contents)\n",
    "\n",
    "for i in closure.__closure__:\n",
    "    print(i.cell_contents)"
   ]
  },
  {
   "attachments": {},
   "cell_type": "markdown",
   "metadata": {},
   "source": [
    "# 전역변수를 사용해서 대체가 가능하다.\n",
    "# 전역변수 사용을 최소화 하는 것이 좋다 (네이밍문제, 스코프문제)"
   ]
  }
 ],
 "metadata": {
  "kernelspec": {
   "display_name": "Python 3",
   "language": "python",
   "name": "python3"
  },
  "language_info": {
   "codemirror_mode": {
    "name": "ipython",
    "version": 3
   },
   "file_extension": ".py",
   "mimetype": "text/x-python",
   "name": "python",
   "nbconvert_exporter": "python",
   "pygments_lexer": "ipython3",
   "version": "3.9.13 (tags/v3.9.13:6de2ca5, May 17 2022, 16:36:42) [MSC v.1929 64 bit (AMD64)]"
  },
  "orig_nbformat": 4,
  "vscode": {
   "interpreter": {
    "hash": "bd93e900be86aa00b58798fc286615aee70713524d15453db8f6a7ddae08e00b"
   }
  }
 },
 "nbformat": 4,
 "nbformat_minor": 2
}
