{
 "cells": [
  {
   "cell_type": "code",
   "execution_count": 1,
   "metadata": {},
   "outputs": [
    {
     "name": "stdout",
     "output_type": "stream",
     "text": [
      "함수 시작\n",
      "hello startcoding\n",
      "함수 끝\n",
      "함수 시작\n",
      "bye fastcampus\n",
      "함수 끝\n"
     ]
    }
   ],
   "source": [
    "# 데코레이터\n",
    "# 함수의 앞, 뒤로 부가적인 기능을 넣어주고 싶을 때 사용\n",
    "# 로깅, 권한확인\n",
    "\n",
    "# 데코레이터 생성하기\n",
    "def logger(func):\n",
    "    def wrapper(arg):\n",
    "        print(\"함수 시작\")\n",
    "        func(arg) # 함수 실행\n",
    "        print(\"함수 끝\")\n",
    "    return wrapper\n",
    "\n",
    "@logger\n",
    "def print_hello(name):\n",
    "    print(\"hello\", name)\n",
    "\n",
    "@logger\n",
    "def print_bye(name):\n",
    "    print(\"bye\", name)\n",
    "\n",
    "print_hello('startcoding')\n",
    "print_bye('fastcampus')"
   ]
  }
 ],
 "metadata": {
  "kernelspec": {
   "display_name": "Python 3",
   "language": "python",
   "name": "python3"
  },
  "language_info": {
   "codemirror_mode": {
    "name": "ipython",
    "version": 3
   },
   "file_extension": ".py",
   "mimetype": "text/x-python",
   "name": "python",
   "nbconvert_exporter": "python",
   "pygments_lexer": "ipython3",
   "version": "3.9.13"
  },
  "orig_nbformat": 4,
  "vscode": {
   "interpreter": {
    "hash": "bd93e900be86aa00b58798fc286615aee70713524d15453db8f6a7ddae08e00b"
   }
  }
 },
 "nbformat": 4,
 "nbformat_minor": 2
}
