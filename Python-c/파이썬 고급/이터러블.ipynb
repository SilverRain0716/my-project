{
 "cells": [
  {
   "cell_type": "code",
   "execution_count": 1,
   "metadata": {},
   "outputs": [
    {
     "name": "stdout",
     "output_type": "stream",
     "text": [
      "10\n",
      "20\n",
      "30\n"
     ]
    },
    {
     "ename": "StopIteration",
     "evalue": "",
     "output_type": "error",
     "traceback": [
      "\u001b[1;31m---------------------------------------------------------------------------\u001b[0m",
      "\u001b[1;31mStopIteration\u001b[0m                             Traceback (most recent call last)",
      "Cell \u001b[1;32mIn [1], line 15\u001b[0m\n\u001b[0;32m     13\u001b[0m \u001b[39mprint\u001b[39m(iter_obj\u001b[39m.\u001b[39m\u001b[39m__next__\u001b[39m())\n\u001b[0;32m     14\u001b[0m \u001b[39mprint\u001b[39m(iter_obj\u001b[39m.\u001b[39m\u001b[39m__next__\u001b[39m())\n\u001b[1;32m---> 15\u001b[0m \u001b[39mprint\u001b[39m(iter_obj\u001b[39m.\u001b[39;49m\u001b[39m__next__\u001b[39;49m())\n",
      "\u001b[1;31mStopIteration\u001b[0m: "
     ]
    }
   ],
   "source": [
    "# 1. 이터러블 객체 (iterable object)\n",
    "# 문자열, 리스트, 튜플, 딕녀서리, range 객체\n",
    "\n",
    "# for i in \"123\":\n",
    "#     print(i)\n",
    "\n",
    "# for i in [10, 20, 30]:\n",
    "#     print(i)\n"
   ]
  },
  {
   "cell_type": "code",
   "execution_count": 3,
   "metadata": {},
   "outputs": [
    {
     "name": "stdout",
     "output_type": "stream",
     "text": [
      "<class 'method-wrapper'>\n"
     ]
    }
   ],
   "source": [
    "print(type([10, 20, 30].__iter__))"
   ]
  },
  {
   "cell_type": "code",
   "execution_count": 8,
   "metadata": {},
   "outputs": [
    {
     "name": "stdout",
     "output_type": "stream",
     "text": [
      "['__class__', '__delattr__', '__dir__', '__doc__', '__eq__', '__format__', '__ge__', '__getattribute__', '__gt__', '__hash__', '__init__', '__init_subclass__', '__iter__', '__le__', '__length_hint__', '__lt__', '__ne__', '__new__', '__next__', '__reduce__', '__reduce_ex__', '__repr__', '__setattr__', '__setstate__', '__sizeof__', '__str__', '__subclasshook__']\n"
     ]
    }
   ],
   "source": [
    "iter_obj = [10, 20, 30].__iter__()\n"
   ]
  },
  {
   "cell_type": "code",
   "execution_count": 9,
   "metadata": {},
   "outputs": [
    {
     "name": "stdout",
     "output_type": "stream",
     "text": [
      "10\n",
      "20\n",
      "30\n"
     ]
    },
    {
     "ename": "StopIteration",
     "evalue": "",
     "output_type": "error",
     "traceback": [
      "\u001b[1;31m---------------------------------------------------------------------------\u001b[0m",
      "\u001b[1;31mStopIteration\u001b[0m                             Traceback (most recent call last)",
      "Cell \u001b[1;32mIn [9], line 6\u001b[0m\n\u001b[0;32m      4\u001b[0m \u001b[39mprint\u001b[39m(iter_obj\u001b[39m.\u001b[39m\u001b[39m__next__\u001b[39m())\n\u001b[0;32m      5\u001b[0m \u001b[39mprint\u001b[39m(iter_obj\u001b[39m.\u001b[39m\u001b[39m__next__\u001b[39m())\n\u001b[1;32m----> 6\u001b[0m \u001b[39mprint\u001b[39m(iter_obj\u001b[39m.\u001b[39;49m\u001b[39m__next__\u001b[39;49m())\n",
      "\u001b[1;31mStopIteration\u001b[0m: "
     ]
    }
   ],
   "source": [
    "iter_obj = [10, 20, 30].__iter__()\n",
    "\n",
    "print(iter_obj.__next__())\n",
    "print(iter_obj.__next__())\n",
    "print(iter_obj.__next__())\n",
    "print(iter_obj.__next__())\n"
   ]
  },
  {
   "attachments": {},
   "cell_type": "markdown",
   "metadata": {},
   "source": [
    "**이터레이터** 생성방법"
   ]
  },
  {
   "cell_type": "code",
   "execution_count": 13,
   "metadata": {},
   "outputs": [
    {
     "name": "stdout",
     "output_type": "stream",
     "text": [
      "sprint\n",
      "summer\n",
      "autumn\n",
      "winter\n"
     ]
    },
    {
     "ename": "StopIteration",
     "evalue": "",
     "output_type": "error",
     "traceback": [
      "\u001b[1;31m---------------------------------------------------------------------------\u001b[0m",
      "\u001b[1;31mStopIteration\u001b[0m                             Traceback (most recent call last)",
      "Cell \u001b[1;32mIn [13], line 23\u001b[0m\n\u001b[0;32m     21\u001b[0m \u001b[39mprint\u001b[39m(iter_obj\u001b[39m.\u001b[39m\u001b[39m__next__\u001b[39m())\n\u001b[0;32m     22\u001b[0m \u001b[39mprint\u001b[39m(iter_obj\u001b[39m.\u001b[39m\u001b[39m__next__\u001b[39m())\n\u001b[1;32m---> 23\u001b[0m \u001b[39mprint\u001b[39m(iter_obj\u001b[39m.\u001b[39;49m\u001b[39m__next__\u001b[39;49m())\n",
      "Cell \u001b[1;32mIn [13], line 16\u001b[0m, in \u001b[0;36mSeasons.__next__\u001b[1;34m(self)\u001b[0m\n\u001b[0;32m     14\u001b[0m     \u001b[39mreturn\u001b[39;00m \u001b[39mself\u001b[39m\u001b[39m.\u001b[39mseason_list[curr_idx]\n\u001b[0;32m     15\u001b[0m \u001b[39melse\u001b[39;00m:\n\u001b[1;32m---> 16\u001b[0m     \u001b[39mraise\u001b[39;00m \u001b[39mStopIteration\u001b[39;00m\n",
      "\u001b[1;31mStopIteration\u001b[0m: "
     ]
    }
   ],
   "source": [
    "class Seasons:\n",
    "    def __init__(self):\n",
    "        self.season_list = ['sprint', 'summer', 'autumn', 'winter']\n",
    "        self.idx = 0\n",
    "        self.max_num = 4\n",
    "    \n",
    "    def __iter__(self):\n",
    "        return self \n",
    "    \n",
    "    def __next__(self):\n",
    "        if self.idx < self.max_num:\n",
    "            curr_idx = self.idx\n",
    "            self.idx += 1\n",
    "            return self.season_list[curr_idx]\n",
    "        else:\n",
    "            raise StopIteration\n",
    "iter_obj = Seasons().__iter__()\n",
    "\n",
    "print(iter_obj.__next__())\n",
    "print(iter_obj.__next__())\n",
    "print(iter_obj.__next__())\n",
    "print(iter_obj.__next__())\n",
    "print(iter_obj.__next__())\n"
   ]
  }
 ],
 "metadata": {
  "kernelspec": {
   "display_name": "Python 3",
   "language": "python",
   "name": "python3"
  },
  "language_info": {
   "codemirror_mode": {
    "name": "ipython",
    "version": 3
   },
   "file_extension": ".py",
   "mimetype": "text/x-python",
   "name": "python",
   "nbconvert_exporter": "python",
   "pygments_lexer": "ipython3",
   "version": "3.9.13 (tags/v3.9.13:6de2ca5, May 17 2022, 16:36:42) [MSC v.1929 64 bit (AMD64)]"
  },
  "orig_nbformat": 4,
  "vscode": {
   "interpreter": {
    "hash": "bd93e900be86aa00b58798fc286615aee70713524d15453db8f6a7ddae08e00b"
   }
  }
 },
 "nbformat": 4,
 "nbformat_minor": 2
}
