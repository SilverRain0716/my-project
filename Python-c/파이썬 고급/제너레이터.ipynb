{
 "cells": [
  {
   "cell_type": "code",
   "execution_count": 2,
   "metadata": {},
   "outputs": [
    {
     "name": "stdout",
     "output_type": "stream",
     "text": [
      "spring\n",
      "summer\n",
      "autumn\n",
      "winter\n"
     ]
    }
   ],
   "source": [
    "# 제너레이터\n",
    "\n",
    "# 1. 이터레이터를 만드는 함수\n",
    "\n",
    "def season_generator(*args):\n",
    "    for arg in args:\n",
    "        yield arg \n",
    "        # arg 갚을 밖으로 리턴해준 다음 함수 실행을 잠깐 중단 한 후 다음 넥스트가 왔을 때 다음 yield값을 리턴해줌\n",
    "        \n",
    "g = season_generator('spring', 'summer', 'autumn', 'winter')\n",
    "\n",
    "print(g.__next__())\n",
    "print(g.__next__())\n",
    "print(g.__next__())\n",
    "print(g.__next__())\n",
    "# print(g.__next__())\n",
    "\n"
   ]
  },
  {
   "cell_type": "code",
   "execution_count": 3,
   "metadata": {},
   "outputs": [
    {
     "name": "stdout",
     "output_type": "stream",
     "text": [
      "첫번째 작업 중...\n",
      "1\n",
      "두번째 작업 중...\n",
      "2\n",
      "세번째 작업 중...\n",
      "3\n"
     ]
    }
   ],
   "source": [
    "def func():\n",
    "    print(\"첫번째 작업 중...\")\n",
    "    yield 1\n",
    "\n",
    "    print(\"두번째 작업 중...\")\n",
    "    yield 2\n",
    "\n",
    "    print(\"세번째 작업 중...\")\n",
    "    yield 3\n",
    "\n",
    "ge = func()\n",
    "data = ge.__next__() #넥스트를 실행했을 때 yield값을 받아옴\n",
    "print(data)\n",
    "data = ge.__next__()\n",
    "print(data)\n",
    "data = ge.__next__()\n",
    "print(data)"
   ]
  },
  {
   "cell_type": "code",
   "execution_count": 6,
   "metadata": {},
   "outputs": [
    {
     "name": "stdout",
     "output_type": "stream",
     "text": [
      "2\n",
      "4\n",
      "6\n",
      "8\n",
      "10\n",
      "12\n",
      "14\n",
      "16\n",
      "18\n"
     ]
    }
   ],
   "source": [
    "# 2. 제너레이터 표현식\n",
    "import sys\n",
    "double_generator = (i * 2 for i in range(1, 10))\n",
    "\n",
    "for i in double_generator:\n",
    "    print(i)\n",
    "\n"
   ]
  },
  {
   "cell_type": "code",
   "execution_count": 5,
   "metadata": {},
   "outputs": [
    {
     "name": "stdout",
     "output_type": "stream",
     "text": [
      "85176\n",
      "112\n"
     ]
    }
   ],
   "source": [
    "# 3. 메모리 사용을 효율적으로 하기 위해서 사용\n",
    "# ex) 숫자 1 - 10000 3배로 만든 결과 리스트 vs 제너레이터\n",
    "\n",
    "# 리스트 : 데이터 저장에 필요한 메모리를 모두 사용\n",
    "# 제너레이터 : 나중에 필요할 때 값을 만들어 사용 (메모리 매우 적게필요)\n",
    "\n",
    "list_data = [i * 3 for i in range(1, 10000 + 1)]\n",
    "generator_data = (i * 3 for i in range(1, 10000 + 1))\n",
    "\n",
    "print(sys.getsizeof(list_data))\n",
    "print(sys.getsizeof(generator_data))\n"
   ]
  }
 ],
 "metadata": {
  "kernelspec": {
   "display_name": "Python 3",
   "language": "python",
   "name": "python3"
  },
  "language_info": {
   "codemirror_mode": {
    "name": "ipython",
    "version": 3
   },
   "file_extension": ".py",
   "mimetype": "text/x-python",
   "name": "python",
   "nbconvert_exporter": "python",
   "pygments_lexer": "ipython3",
   "version": "3.9.13"
  },
  "orig_nbformat": 4,
  "vscode": {
   "interpreter": {
    "hash": "bd93e900be86aa00b58798fc286615aee70713524d15453db8f6a7ddae08e00b"
   }
  }
 },
 "nbformat": 4,
 "nbformat_minor": 2
}
