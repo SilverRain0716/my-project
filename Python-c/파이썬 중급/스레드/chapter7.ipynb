{
 "cells": [
  {
   "cell_type": "code",
   "execution_count": 2,
   "metadata": {},
   "outputs": [
    {
     "name": "stdout",
     "output_type": "stream",
     "text": [
      "[main] start\n",
      "[sub] start\n",
      "[main] 메인 스레드는 자기 할일을 합니다. ..\n",
      "[main] end\n"
     ]
    },
    {
     "name": "stdout",
     "output_type": "stream",
     "text": [
      "[sub] 삼성(으)로 검색을 시작합니다...\n",
      "[sub] end\n"
     ]
    }
   ],
   "source": [
    "import threading\n",
    "\n",
    "# 스레드 함수 정의\n",
    "def work():\n",
    "    print(\"[sub] start\")\n",
    "    keyword = input(\"[sub] 검색어를 입력하세요 >>>\")\n",
    "    print(f\"[sub] {keyword}(으)로 검색을 시작합니다...\")    \n",
    "    print(\"[sub] end\")\n",
    "    \n",
    "# 메인 스레드 \n",
    "print(\"[main] start\")\n",
    "\n",
    "worker = threading.Thread(target = work)\n",
    "worker.daemon = True\n",
    "worker.start()\n",
    "\n",
    "print(\"[main] 메인 스레드는 자기 할일을 합니다. ..\")\n",
    "print(\"[main] end\")"
   ]
  },
  {
   "cell_type": "code",
   "execution_count": 8,
   "metadata": {},
   "outputs": [
    {
     "name": "stdout",
     "output_type": "stream",
     "text": [
      "[메인] start\n",
      "[매수] 데이터 요청중\n",
      "[매도] 데이터 분석중\n",
      "[매수] 데이터 분석중[매도] 손절 고민중\n",
      "\n",
      "[매수] 타이밍 못 잡는 중[매도] 손절중\n",
      "\n",
      "[매도] 데이터 분석중[매수] 매수중\n",
      "\n",
      "[매수] 데이터 요청중[매도] 손절 고민중\n",
      "\n",
      "[매수] 데이터 분석중\n",
      "[매도] 손절중\n",
      "[매수] 타이밍 못 잡는 중[매도] 데이터 분석중\n",
      "\n",
      "[매수] 매수중[매도] 손절 고민중\n",
      "\n",
      "[매수] 데이터 요청중[매도] 손절중\n",
      "\n",
      "[매수] 데이터 분석중\n",
      "[매도] 데이터 분석중\n",
      "[매수] 타이밍 못 잡는 중[매도] 손절 고민중\n",
      "\n",
      "[매수] 매수중[매도] 손절중\n",
      "\n",
      "[매도] 데이터 분석중[매수] 데이터 요청중\n",
      "\n",
      "[매수] 데이터 분석중\n",
      "[매도] 손절 고민중\n",
      "[매수] 타이밍 못 잡는 중\n",
      "[매도] 손절중\n",
      "[매수] 매수중\n",
      "[매수] 데이터 요청중\n",
      "[매수] 데이터 분석중\n",
      "[매수] 타이밍 못 잡는 중\n",
      "[매수] 매수중\n",
      "[메인] 창이 종료되었습니다.\n"
     ]
    }
   ],
   "source": [
    "import time\n",
    "\n",
    "def buyer():\n",
    "    for i in range(5):\n",
    "        print(\"[매수] 데이터 요청중\")\n",
    "        time.sleep(2)\n",
    "        print(\"[매수] 데이터 분석중\")\n",
    "        time.sleep(2)\n",
    "        print(\"[매수] 타이밍 못 잡는 중\")\n",
    "        time.sleep(2)\n",
    "        print(\"[매수] 매수중\")\n",
    "        time.sleep(2)\n",
    "        \n",
    "def saler():\n",
    "    for i in range(5):         \n",
    "        print(\"[매도] 데이터 분석중\")\n",
    "        time.sleep(2)\n",
    "        print(\"[매도] 손절 고민중\")\n",
    "        time.sleep(2)\n",
    "        print(\"[매도] 손절중\")\n",
    "        time.sleep(2)\n",
    "        \n",
    "#메인\n",
    "\n",
    "print(\"[메인] start\")\n",
    "buyer = threading.Thread(target=buyer)\n",
    "saler = threading.Thread(target=saler)\n",
    "buyer.start()\n",
    "saler.start()\n",
    "\n",
    "buyer.join()\n",
    "saler.join()\n",
    "\n",
    "print(\"[메인] 창이 종료되었습니다.\")"
   ]
  }
 ],
 "metadata": {
  "kernelspec": {
   "display_name": "Python 3",
   "language": "python",
   "name": "python3"
  },
  "language_info": {
   "codemirror_mode": {
    "name": "ipython",
    "version": 3
   },
   "file_extension": ".py",
   "mimetype": "text/x-python",
   "name": "python",
   "nbconvert_exporter": "python",
   "pygments_lexer": "ipython3",
   "version": "3.9.13"
  },
  "orig_nbformat": 4,
  "vscode": {
   "interpreter": {
    "hash": "bd93e900be86aa00b58798fc286615aee70713524d15453db8f6a7ddae08e00b"
   }
  }
 },
 "nbformat": 4,
 "nbformat_minor": 2
}
