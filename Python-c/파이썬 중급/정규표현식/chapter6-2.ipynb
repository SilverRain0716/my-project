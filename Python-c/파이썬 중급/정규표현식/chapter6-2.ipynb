{
 "cells": [
  {
   "attachments": {},
   "cell_type": "markdown",
   "metadata": {},
   "source": [
    "# 실습문제 6.1.1\n",
    "# 날짜 형식 검사하기\n",
    "\n",
    "# YYYY/MM/DD 형식으로 표현된 날짜를 검사하는 정규표현식 만들기\n",
    "\n",
    "# 1. 연도는 4자리 숫자로 제한한다 (1000~9999)\n",
    "# 2. 월은 1월~12월, 일은 1일~31일 까지 가능하다.\n",
    "\n",
    "\n",
    "# ^\\d{4}/(0[1-9]|1[0-2])/(0[1-9]|[12][0-9]|3[01])$\n"
   ]
  },
  {
   "cell_type": "code",
   "execution_count": 4,
   "metadata": {},
   "outputs": [
    {
     "name": "stdout",
     "output_type": "stream",
     "text": [
      "2022/08/08 True\n",
      "1000/01/01 True\n",
      "9999/12/31 True\n",
      "900/02/02 False\n",
      "12000/10/26 False\n",
      "2021/13/01 False\n",
      "2023/2/02 False\n",
      "2024/06/3 False\n",
      "2023/06/35 False\n"
     ]
    }
   ],
   "source": [
    "import re\n",
    "\n",
    "datas = [\n",
    "    '2022/08/08',\n",
    "    '1000/01/01',\n",
    "    '9999/12/31',\n",
    "    '900/02/02',\n",
    "    '12000/10/26',\n",
    "    '2021/13/01',\n",
    "    '2023/2/02',\n",
    "    '2024/06/3',\n",
    "    '2023/06/35'\n",
    "]\n",
    "\n",
    "regex = '^\\d{4}/(0[1-9]|1[0-2])/(0[1-9]|[12][0-9]|3[01])$'\n",
    "\n",
    "for data in datas:\n",
    "    metchObj = re.match(regex, data)\n",
    "    result = (lambda x : True if x != None else False)(metchObj)\n",
    "    print(f'{data} {result}')\n"
   ]
  },
  {
   "attachments": {},
   "cell_type": "markdown",
   "metadata": {},
   "source": [
    "# 실습문제 6.1.2 \n",
    "# 현지는 자사상품이벤트를 위해 고객들로부터 이메일을 입력받았다. 고객들이 이메일 형식을\n",
    "# 올바르게 입력했는지 검사하는 정규표현식을 작성해보자.\n",
    "\n",
    "# 1. 이메일은 ID 파트와 host 파트가 있다. (ID @ host)\n",
    "# 2. ID 파트는 영문 대소문자, 숫자, 특수문자(-_)가 들어갈 수 있다.\n",
    "# 3. host 파트는 영문 대소문자, 숫자, 특수문자(-)\n",
    "# 4. host 파트는 2개 이상의 도메인으로 구성 될 수 있다.\n",
    "\n",
    "# ^[\\w-]+@[a-zA-Z0-9-]+\\.[a-zA-Z0-9-.]+$\n"
   ]
  },
  {
   "cell_type": "code",
   "execution_count": 6,
   "metadata": {},
   "outputs": [
    {
     "name": "stdout",
     "output_type": "stream",
     "text": [
      "startcoding@maver.com True\n",
      "start-coding@maver.com True\n",
      "start_coding@maver.co.kr True\n",
      "startcoding@k-mail.com True\n",
      "@maver.com False\n",
      "startcoding?@k-mail.com False\n",
      "startcoding@k-mail False\n",
      "startcoding@maver False\n"
     ]
    }
   ],
   "source": [
    "datas = [\n",
    "    'startcoding@maver.com',\n",
    "    'start-coding@maver.com',\n",
    "    'start_coding@maver.co.kr',\n",
    "    'startcoding@k-mail.com',\n",
    "    '@maver.com',\n",
    "    'startcoding?@k-mail.com',\n",
    "    'startcoding@k-mail',\n",
    "    'startcoding@maver'\n",
    "]\n",
    "\n",
    "regex = re.compile('^[\\w-]+@[a-zA-Z0-9-]+\\.[a-zA-Z0-9-.]+$')\n",
    "\n",
    "for data in datas:\n",
    "    matchObj = regex.match(data)\n",
    "    result = (lambda x : True if x != None else False)(matchObj)\n",
    "    print(f'{data} {result}')\n"
   ]
  },
  {
   "cell_type": "code",
   "execution_count": null,
   "metadata": {},
   "outputs": [],
   "source": []
  }
 ],
 "metadata": {
  "kernelspec": {
   "display_name": "Python 3",
   "language": "python",
   "name": "python3"
  },
  "language_info": {
   "codemirror_mode": {
    "name": "ipython",
    "version": 3
   },
   "file_extension": ".py",
   "mimetype": "text/x-python",
   "name": "python",
   "nbconvert_exporter": "python",
   "pygments_lexer": "ipython3",
   "version": "3.9.13"
  },
  "orig_nbformat": 4,
  "vscode": {
   "interpreter": {
    "hash": "bd93e900be86aa00b58798fc286615aee70713524d15453db8f6a7ddae08e00b"
   }
  }
 },
 "nbformat": 4,
 "nbformat_minor": 2
}
