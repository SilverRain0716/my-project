{
 "cells": [
  {
   "cell_type": "code",
   "execution_count": 2,
   "metadata": {},
   "outputs": [
    {
     "name": "stdout",
     "output_type": "stream",
     "text": [
      "010-1234-5678\n"
     ]
    }
   ],
   "source": [
    "import re\n",
    "\n",
    "# 1. Group 그룹\n",
    "\n",
    "# 1) 문자열 1개\n",
    "str1 = '010-1234-5678'\n",
    "result = re.match('\\d{2,3}-\\d{3,4}-(\\d{4})$', str1)\n",
    "\n",
    "print(result.group())"
   ]
  },
  {
   "cell_type": "code",
   "execution_count": 26,
   "metadata": {},
   "outputs": [
    {
     "name": "stdout",
     "output_type": "stream",
     "text": [
      "1 : 010-2341-1414\n",
      "2 : 010-2131-1312\n",
      "3 : 010-5456-5356\n",
      "4 : 010-1111-3333\n"
     ]
    }
   ],
   "source": [
    "# 2) 문자열 여러개\n",
    "str2  = '010-2341-1414, 010-2131-1312, 010-5456-5356, 010-1111-3333' \n",
    "results = re.finditer('\\d{2,3}-\\d{3,4}-(\\d{4})(?=,|$)', str2)\n",
    "\n",
    "for idx, result in enumerate(results, 1):\n",
    "    print(f'{idx} : {result.group(0)}')\n"
   ]
  },
  {
   "cell_type": "code",
   "execution_count": 29,
   "metadata": {},
   "outputs": [
    {
     "name": "stdout",
     "output_type": "stream",
     "text": [
      "010-3213-****\n"
     ]
    }
   ],
   "source": [
    "# 2. Substitution (교체)\n",
    "str3 ='010-3213-3034'\n",
    "result = re.sub('(?<=\\d{3}-\\d{4}-)\\d{4}','****', str3) # 후방 탐색\n",
    "print(result)\n"
   ]
  },
  {
   "cell_type": "code",
   "execution_count": null,
   "metadata": {},
   "outputs": [],
   "source": []
  }
 ],
 "metadata": {
  "kernelspec": {
   "display_name": "Python 3",
   "language": "python",
   "name": "python3"
  },
  "language_info": {
   "codemirror_mode": {
    "name": "ipython",
    "version": 3
   },
   "file_extension": ".py",
   "mimetype": "text/x-python",
   "name": "python",
   "nbconvert_exporter": "python",
   "pygments_lexer": "ipython3",
   "version": "3.9.13"
  },
  "orig_nbformat": 4,
  "vscode": {
   "interpreter": {
    "hash": "bd93e900be86aa00b58798fc286615aee70713524d15453db8f6a7ddae08e00b"
   }
  }
 },
 "nbformat": 4,
 "nbformat_minor": 2
}
